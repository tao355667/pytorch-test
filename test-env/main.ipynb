{
 "cells": [
  {
   "cell_type": "code",
   "execution_count": 2,
   "metadata": {},
   "outputs": [
    {
     "name": "stdout",
     "output_type": "stream",
     "text": [
      "===== PyTorch GPU 信息 =====\n",
      "CUDA 是否可用: True\n",
      "\n",
      "可用的GPU数量: 1\n",
      "\n",
      "=== GPU 0 ===\n",
      "名称: NVIDIA GeForce RTX 4060 Laptop GPU\n",
      "总内存: 8.00 GB\n",
      "多处理器数量: 24\n",
      "计算能力: 8.9\n",
      "\n",
      "===== GPU 功能测试 =====\n",
      "\n",
      "=== GPU 操作测试 ===\n",
      "张量所在设备: cuda:0\n",
      "GPU 计算成功！\n",
      "\n",
      "===== 最终状态 =====\n",
      "GPU 是否可用: True\n",
      "GPU 是否可用: True\n",
      "PyTorch 版本: 2.5.0+cu124\n"
     ]
    }
   ],
   "source": [
    "import torch\n",
    "\n",
    "def print_gpu_info():\n",
    "    # 检查CUDA是否可用\n",
    "    cuda_available = torch.cuda.is_available()\n",
    "    print(f\"CUDA 是否可用: {cuda_available}\")\n",
    "    \n",
    "    if not cuda_available:\n",
    "        return\n",
    "    \n",
    "    # 获取GPU数量\n",
    "    device_count = torch.cuda.device_count()\n",
    "    print(f\"\\n可用的GPU数量: {device_count}\")\n",
    "    \n",
    "    # 打印每个GPU的详细信息\n",
    "    for i in range(device_count):\n",
    "        print(f\"\\n=== GPU {i} ===\")\n",
    "        print(f\"名称: {torch.cuda.get_device_name(i)}\")\n",
    "        prop = torch.cuda.get_device_properties(i)\n",
    "        print(f\"总内存: {prop.total_memory / 1024**3:.2f} GB\")\n",
    "        print(f\"多处理器数量: {prop.multi_processor_count}\")\n",
    "        print(f\"计算能力: {prop.major}.{prop.minor}\")\n",
    "\n",
    "def test_gpu_operation():\n",
    "    # 尝试在GPU上执行操作\n",
    "    if torch.cuda.is_available():\n",
    "        try:\n",
    "            # 创建测试张量\n",
    "            x = torch.randn(3, 3).cuda()\n",
    "            y = torch.randn(3, 3).cuda()\n",
    "            z = x + y  # 执行GPU计算\n",
    "            \n",
    "            # 验证设备类型\n",
    "            print(\"\\n=== GPU 操作测试 ===\")\n",
    "            print(f\"张量所在设备: {x.device}\")\n",
    "            print(\"GPU 计算成功！\")\n",
    "            return True\n",
    "        except Exception as e:\n",
    "            print(f\"\\nGPU 操作失败: {str(e)}\")\n",
    "            return False\n",
    "    else:\n",
    "        print(\"没有可用的GPU进行测试\")\n",
    "        return False\n",
    "\n",
    "if __name__ == \"__main__\":\n",
    "    print(\"===== PyTorch GPU 信息 =====\")\n",
    "    print_gpu_info()\n",
    "    \n",
    "    print(\"\\n===== GPU 功能测试 =====\")\n",
    "    test_result = test_gpu_operation()\n",
    "    \n",
    "    print(\"\\n===== 最终状态 =====\")\n",
    "    print(f\"GPU 是否可用: {torch.cuda.is_available()}\")\n",
    "    print(f\"GPU 是否可用: {test_result}\")\n",
    "    print(f\"PyTorch 版本: {torch.__version__}\")"
   ]
  }
 ],
 "metadata": {
  "kernelspec": {
   "display_name": "base",
   "language": "python",
   "name": "python3"
  },
  "language_info": {
   "codemirror_mode": {
    "name": "ipython",
    "version": 3
   },
   "file_extension": ".py",
   "mimetype": "text/x-python",
   "name": "python",
   "nbconvert_exporter": "python",
   "pygments_lexer": "ipython3",
   "version": "3.11.10"
  }
 },
 "nbformat": 4,
 "nbformat_minor": 2
}
